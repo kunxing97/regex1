{
 "cells": [
  {
   "cell_type": "markdown",
   "id": "focal-clear",
   "metadata": {},
   "source": [
    "# reading data"
   ]
  },
  {
   "cell_type": "code",
   "execution_count": 1,
   "id": "unnecessary-neighbor",
   "metadata": {},
   "outputs": [
    {
     "data": {
      "text/html": [
       "<table class=\"dataframe\">\n",
       "<caption>A data.frame: 30 × 2</caption>\n",
       "<thead>\n",
       "\t<tr><th scope=col>y</th><th scope=col>x</th></tr>\n",
       "\t<tr><th scope=col>&lt;dbl&gt;</th><th scope=col>&lt;dbl&gt;</th></tr>\n",
       "</thead>\n",
       "<tbody>\n",
       "\t<tr><td> 6.8102</td><td> 9.8492</td></tr>\n",
       "\t<tr><td> 9.8437</td><td>11.1450</td></tr>\n",
       "\t<tr><td> 4.9767</td><td> 5.1209</td></tr>\n",
       "\t<tr><td> 5.0006</td><td> 8.1085</td></tr>\n",
       "\t<tr><td> 3.5047</td><td> 3.5599</td></tr>\n",
       "\t<tr><td> 3.6419</td><td> 1.9883</td></tr>\n",
       "\t<tr><td> 7.8725</td><td>15.5322</td></tr>\n",
       "\t<tr><td> 5.1442</td><td> 7.5202</td></tr>\n",
       "\t<tr><td> 8.3883</td><td>14.0202</td></tr>\n",
       "\t<tr><td> 6.8204</td><td> 7.5226</td></tr>\n",
       "\t<tr><td> 9.0185</td><td>14.3272</td></tr>\n",
       "\t<tr><td> 2.6148</td><td> 3.8950</td></tr>\n",
       "\t<tr><td> 3.7367</td><td> 1.8707</td></tr>\n",
       "\t<tr><td> 2.8651</td><td> 0.8347</td></tr>\n",
       "\t<tr><td>10.7469</td><td>18.3413</td></tr>\n",
       "\t<tr><td> 2.3710</td><td> 1.6645</td></tr>\n",
       "\t<tr><td> 9.6653</td><td>17.0579</td></tr>\n",
       "\t<tr><td> 7.1926</td><td> 9.2375</td></tr>\n",
       "\t<tr><td>11.7833</td><td>21.0000</td></tr>\n",
       "\t<tr><td> 3.9537</td><td> 3.5286</td></tr>\n",
       "\t<tr><td>15.0000</td><td>25.0000</td></tr>\n",
       "\t<tr><td> 7.9152</td><td> 9.9008</td></tr>\n",
       "\t<tr><td> 9.3368</td><td>17.5990</td></tr>\n",
       "\t<tr><td> 8.7587</td><td>13.8790</td></tr>\n",
       "\t<tr><td> 6.7813</td><td>10.8690</td></tr>\n",
       "\t<tr><td> 7.9924</td><td>12.6238</td></tr>\n",
       "\t<tr><td> 2.2806</td><td> 0.9719</td></tr>\n",
       "\t<tr><td>10.4050</td><td>14.4814</td></tr>\n",
       "\t<tr><td> 3.7891</td><td> 2.1792</td></tr>\n",
       "\t<tr><td>10.9067</td><td>18.4052</td></tr>\n",
       "</tbody>\n",
       "</table>\n"
      ],
      "text/latex": [
       "A data.frame: 30 × 2\n",
       "\\begin{tabular}{ll}\n",
       " y & x\\\\\n",
       " <dbl> & <dbl>\\\\\n",
       "\\hline\n",
       "\t  6.8102 &  9.8492\\\\\n",
       "\t  9.8437 & 11.1450\\\\\n",
       "\t  4.9767 &  5.1209\\\\\n",
       "\t  5.0006 &  8.1085\\\\\n",
       "\t  3.5047 &  3.5599\\\\\n",
       "\t  3.6419 &  1.9883\\\\\n",
       "\t  7.8725 & 15.5322\\\\\n",
       "\t  5.1442 &  7.5202\\\\\n",
       "\t  8.3883 & 14.0202\\\\\n",
       "\t  6.8204 &  7.5226\\\\\n",
       "\t  9.0185 & 14.3272\\\\\n",
       "\t  2.6148 &  3.8950\\\\\n",
       "\t  3.7367 &  1.8707\\\\\n",
       "\t  2.8651 &  0.8347\\\\\n",
       "\t 10.7469 & 18.3413\\\\\n",
       "\t  2.3710 &  1.6645\\\\\n",
       "\t  9.6653 & 17.0579\\\\\n",
       "\t  7.1926 &  9.2375\\\\\n",
       "\t 11.7833 & 21.0000\\\\\n",
       "\t  3.9537 &  3.5286\\\\\n",
       "\t 15.0000 & 25.0000\\\\\n",
       "\t  7.9152 &  9.9008\\\\\n",
       "\t  9.3368 & 17.5990\\\\\n",
       "\t  8.7587 & 13.8790\\\\\n",
       "\t  6.7813 & 10.8690\\\\\n",
       "\t  7.9924 & 12.6238\\\\\n",
       "\t  2.2806 &  0.9719\\\\\n",
       "\t 10.4050 & 14.4814\\\\\n",
       "\t  3.7891 &  2.1792\\\\\n",
       "\t 10.9067 & 18.4052\\\\\n",
       "\\end{tabular}\n"
      ],
      "text/markdown": [
       "\n",
       "A data.frame: 30 × 2\n",
       "\n",
       "| y &lt;dbl&gt; | x &lt;dbl&gt; |\n",
       "|---|---|\n",
       "|  6.8102 |  9.8492 |\n",
       "|  9.8437 | 11.1450 |\n",
       "|  4.9767 |  5.1209 |\n",
       "|  5.0006 |  8.1085 |\n",
       "|  3.5047 |  3.5599 |\n",
       "|  3.6419 |  1.9883 |\n",
       "|  7.8725 | 15.5322 |\n",
       "|  5.1442 |  7.5202 |\n",
       "|  8.3883 | 14.0202 |\n",
       "|  6.8204 |  7.5226 |\n",
       "|  9.0185 | 14.3272 |\n",
       "|  2.6148 |  3.8950 |\n",
       "|  3.7367 |  1.8707 |\n",
       "|  2.8651 |  0.8347 |\n",
       "| 10.7469 | 18.3413 |\n",
       "|  2.3710 |  1.6645 |\n",
       "|  9.6653 | 17.0579 |\n",
       "|  7.1926 |  9.2375 |\n",
       "| 11.7833 | 21.0000 |\n",
       "|  3.9537 |  3.5286 |\n",
       "| 15.0000 | 25.0000 |\n",
       "|  7.9152 |  9.9008 |\n",
       "|  9.3368 | 17.5990 |\n",
       "|  8.7587 | 13.8790 |\n",
       "|  6.7813 | 10.8690 |\n",
       "|  7.9924 | 12.6238 |\n",
       "|  2.2806 |  0.9719 |\n",
       "| 10.4050 | 14.4814 |\n",
       "|  3.7891 |  2.1792 |\n",
       "| 10.9067 | 18.4052 |\n",
       "\n"
      ],
      "text/plain": [
       "   y       x      \n",
       "1   6.8102  9.8492\n",
       "2   9.8437 11.1450\n",
       "3   4.9767  5.1209\n",
       "4   5.0006  8.1085\n",
       "5   3.5047  3.5599\n",
       "6   3.6419  1.9883\n",
       "7   7.8725 15.5322\n",
       "8   5.1442  7.5202\n",
       "9   8.3883 14.0202\n",
       "10  6.8204  7.5226\n",
       "11  9.0185 14.3272\n",
       "12  2.6148  3.8950\n",
       "13  3.7367  1.8707\n",
       "14  2.8651  0.8347\n",
       "15 10.7469 18.3413\n",
       "16  2.3710  1.6645\n",
       "17  9.6653 17.0579\n",
       "18  7.1926  9.2375\n",
       "19 11.7833 21.0000\n",
       "20  3.9537  3.5286\n",
       "21 15.0000 25.0000\n",
       "22  7.9152  9.9008\n",
       "23  9.3368 17.5990\n",
       "24  8.7587 13.8790\n",
       "25  6.7813 10.8690\n",
       "26  7.9924 12.6238\n",
       "27  2.2806  0.9719\n",
       "28 10.4050 14.4814\n",
       "29  3.7891  2.1792\n",
       "30 10.9067 18.4052"
      ]
     },
     "metadata": {},
     "output_type": "display_data"
    }
   ],
   "source": [
    "mydata <- read.csv(\"regrex1.csv\")\n",
    "mydata\n",
    "xval <- mydata$x\n",
    "yval <- mydata$y"
   ]
  },
  {
   "cell_type": "markdown",
   "id": "surface-campbell",
   "metadata": {},
   "source": [
    "# plotting scatterplot "
   ]
  },
  {
   "cell_type": "code",
   "execution_count": 2,
   "id": "exact-winning",
   "metadata": {},
   "outputs": [
    {
     "data": {
      "image/png": "[encoded data removed]",
      "text/plain": [
       "Plot with title “Scatterplot in R”"
      ]
     },
     "metadata": {
      "image/png": {
       "height": 420,
       "width": 420
      }
     },
     "output_type": "display_data"
    }
   ],
   "source": [
    "plot(xval, yval, main=\"Scatterplot in R\")"
   ]
  },
  {
   "cell_type": "markdown",
   "id": "supreme-mineral",
   "metadata": {},
   "source": [
    "# modeling data "
   ]
  },
  {
   "cell_type": "code",
   "execution_count": 3,
   "id": "congressional-magazine",
   "metadata": {},
   "outputs": [
    {
     "name": "stdout",
     "output_type": "stream",
     "text": [
      "\n",
      "Call:\n",
      "lm(formula = yval ~ xval, data = mydata)\n",
      "\n",
      "Coefficients:\n",
      "(Intercept)         xval  \n",
      "     2.2481       0.4691  \n",
      "\n"
     ]
    }
   ],
   "source": [
    "linearmodel <- lm(yval ~ xval, data=mydata) \n",
    "print(linearmodel)"
   ]
  },
  {
   "cell_type": "code",
   "execution_count": 4,
   "id": "approved-memory",
   "metadata": {},
   "outputs": [
    {
     "data": {
      "text/html": [
       "<style>\n",
       ".dl-inline {width: auto; margin:0; padding: 0}\n",
       ".dl-inline>dt, .dl-inline>dd {float: none; width: auto; display: inline-block}\n",
       ".dl-inline>dt::after {content: \":\\0020\"; padding-right: .5ex}\n",
       ".dl-inline>dt:not(:first-of-type) {padding-left: .5ex}\n",
       "</style><dl class=dl-inline><dt>1</dt><dd>6.8680310089466</dd><dt>2</dt><dd>7.47584191493646</dd><dt>3</dt><dd>4.65016381741099</dd><dt>4</dt><dd>6.05153429336044</dd><dt>5</dt><dd>3.91795759403534</dd><dt>6</dt><dd>3.18077931046252</dd><dt>7</dt><dd>9.53371196182541</dd><dt>8</dt><dd>5.77558495241752</dd><dt>9</dt><dd>8.82448979030461</dd><dt>10</dt><dd>5.77671070189613</dd><dt>11</dt><dd>8.96849191110942</dd><dt>12</dt><dd>4.07514036498548</dd><dt>13</dt><dd>3.1256175860109</dd><dt>14</dt><dd>2.63966906107997</dd><dt>15</dt><dd>10.8513548203037</dd><dt>16</dt><dd>3.02889694330746</dd><dt>17</dt><dd>10.2493602866199</dd><dt>18</dt><dd>6.58110561058729</dd><dt>19</dt><dd>12.098450711456</dd><dt>20</dt><dd>3.9032759445852</dd><dt>21</dt><dd>13.9746998424635</dd><dt>22</dt><dd>6.8922346227366</dd><dt>23</dt><dd>10.503169887817</dd><dt>24</dt><dd>8.75825819598004</dd><dt>25</dt><dd>7.34638072489695</dd><dt>26</dt><dd>8.16949121866991</dd><dt>27</dt><dd>2.70402440627353</dd><dt>28</dt><dd>9.04082131510976</dd><dt>29</dt><dd>3.27032330023985</dd><dt>30</dt><dd>10.8813279001715</dd></dl>\n"
      ],
      "text/latex": [
       "\\begin{description*}\n",
       "\\item[1] 6.8680310089466\n",
       "\\item[2] 7.47584191493646\n",
       "\\item[3] 4.65016381741099\n",
       "\\item[4] 6.05153429336044\n",
       "\\item[5] 3.91795759403534\n",
       "\\item[6] 3.18077931046252\n",
       "\\item[7] 9.53371196182541\n",
       "\\item[8] 5.77558495241752\n",
       "\\item[9] 8.82448979030461\n",
       "\\item[10] 5.77671070189613\n",
       "\\item[11] 8.96849191110942\n",
       "\\item[12] 4.07514036498548\n",
       "\\item[13] 3.1256175860109\n",
       "\\item[14] 2.63966906107997\n",
       "\\item[15] 10.8513548203037\n",
       "\\item[16] 3.02889694330746\n",
       "\\item[17] 10.2493602866199\n",
       "\\item[18] 6.58110561058729\n",
       "\\item[19] 12.098450711456\n",
       "\\item[20] 3.9032759445852\n",
       "\\item[21] 13.9746998424635\n",
       "\\item[22] 6.8922346227366\n",
       "\\item[23] 10.503169887817\n",
       "\\item[24] 8.75825819598004\n",
       "\\item[25] 7.34638072489695\n",
       "\\item[26] 8.16949121866991\n",
       "\\item[27] 2.70402440627353\n",
       "\\item[28] 9.04082131510976\n",
       "\\item[29] 3.27032330023985\n",
       "\\item[30] 10.8813279001715\n",
       "\\end{description*}\n"
      ],
      "text/markdown": [
       "1\n",
       ":   6.86803100894662\n",
       ":   7.475841914936463\n",
       ":   4.650163817410994\n",
       ":   6.051534293360445\n",
       ":   3.917957594035346\n",
       ":   3.180779310462527\n",
       ":   9.533711961825418\n",
       ":   5.775584952417529\n",
       ":   8.8244897903046110\n",
       ":   5.7767107018961311\n",
       ":   8.9684919111094212\n",
       ":   4.0751403649854813\n",
       ":   3.125617586010914\n",
       ":   2.6396690610799715\n",
       ":   10.851354820303716\n",
       ":   3.0288969433074617\n",
       ":   10.249360286619918\n",
       ":   6.5811056105872919\n",
       ":   12.09845071145620\n",
       ":   3.903275944585221\n",
       ":   13.974699842463522\n",
       ":   6.892234622736623\n",
       ":   10.50316988781724\n",
       ":   8.7582581959800425\n",
       ":   7.3463807248969526\n",
       ":   8.1694912186699127\n",
       ":   2.7040244062735328\n",
       ":   9.0408213151097629\n",
       ":   3.2703233002398530\n",
       ":   10.8813279001715\n",
       "\n"
      ],
      "text/plain": [
       "        1         2         3         4         5         6         7         8 \n",
       " 6.868031  7.475842  4.650164  6.051534  3.917958  3.180779  9.533712  5.775585 \n",
       "        9        10        11        12        13        14        15        16 \n",
       " 8.824490  5.776711  8.968492  4.075140  3.125618  2.639669 10.851355  3.028897 \n",
       "       17        18        19        20        21        22        23        24 \n",
       "10.249360  6.581106 12.098451  3.903276 13.974700  6.892235 10.503170  8.758258 \n",
       "       25        26        27        28        29        30 \n",
       " 7.346381  8.169491  2.704024  9.040821  3.270323 10.881328 "
      ]
     },
     "metadata": {},
     "output_type": "display_data"
    }
   ],
   "source": [
    "predict(linearmodel, mydata)"
   ]
  },
  {
   "cell_type": "code",
   "execution_count": 5,
   "id": "wound-picnic",
   "metadata": {},
   "outputs": [
    {
     "data": {
      "image/png": "[encoded data removed]",
      "text/plain": [
       "Plot with title “Linear Regression in R”"
      ]
     },
     "metadata": {
      "image/png": {
       "height": 420,
       "width": 420
      }
     },
     "output_type": "display_data"
    }
   ],
   "source": [
    "plot(xval, yval ,col = \"blue\",main = \"Linear Regression in R\",\n",
    "abline(linearmodel), cex = 1.3,pch = 16,xlab = \"x\",ylab = \"y\")"
   ]
  }
 ],
 "metadata": {
  "kernelspec": {
   "display_name": "R",
   "language": "R",
   "name": "ir"
  },
  "language_info": {
   "codemirror_mode": "r",
   "file_extension": ".r",
   "mimetype": "text/x-r-source",
   "name": "R",
   "pygments_lexer": "r",
   "version": "4.0.1"
  }
 },
 "nbformat": 4,
 "nbformat_minor": 5
}
