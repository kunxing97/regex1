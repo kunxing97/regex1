{
 "cells": [
  {
   "cell_type": "markdown",
   "id": "canadian-ferry",
   "metadata": {},
   "source": [
    "# importing packages "
   ]
  },
  {
   "cell_type": "code",
   "execution_count": 1,
   "id": "unnecessary-neighbor",
   "metadata": {},
   "outputs": [],
   "source": [
    "import pandas as pd\n",
    "import sklearn\n",
    "import numpy as np\n",
    "import matplotlib.pyplot as plt\n",
    "\n",
    "from sklearn.linear_model import LinearRegression\n",
    "from sklearn.model_selection import train_test_split"
   ]
  },
  {
   "cell_type": "markdown",
   "id": "dirty-revolution",
   "metadata": {},
   "source": [
    "# reading data "
   ]
  },
  {
   "cell_type": "code",
   "execution_count": 2,
   "id": "exact-winning",
   "metadata": {},
   "outputs": [],
   "source": [
    "regrex1 = pd.read_csv(\"regrex1.csv\")"
   ]
  },
  {
   "cell_type": "code",
   "execution_count": 3,
   "id": "approved-memory",
   "metadata": {},
   "outputs": [
    {
     "data": {
      "text/plain": [
       "<AxesSubplot:title={'center':'Scatter Plot in Python'}, xlabel='x', ylabel='y'>"
      ]
     },
     "execution_count": 3,
     "metadata": {},
     "output_type": "execute_result"
    },
    {
     "data": {
      "image/png": "[encoded data removed]",
      "text/plain": [
       "<Figure size 432x288 with 1 Axes>"
      ]
     },
     "metadata": {
      "needs_background": "light"
     },
     "output_type": "display_data"
    }
   ],
   "source": [
    "#plotting data as scatter plot \n",
    "regrex1.plot.scatter(x='x',y='y', title='Scatter Plot in Python')"
   ]
  },
  {
   "cell_type": "markdown",
   "id": "combined-barrier",
   "metadata": {},
   "source": [
    "# making 1D model into 2D, splitting data into test and train "
   ]
  },
  {
   "cell_type": "code",
   "execution_count": 4,
   "id": "wound-picnic",
   "metadata": {},
   "outputs": [],
   "source": [
    "data = sklearn.linear_model.LinearRegression()\n",
    "x = regrex1['x'].values.reshape(-1,1)\n",
    "y = regrex1['y'].values.reshape(-1,1)\n",
    "#including all values as test and train \n",
    "x_train = x\n",
    "x_test = x\n",
    "y_train = y\n",
    "y_test = y"
   ]
  },
  {
   "cell_type": "markdown",
   "id": "impossible-gateway",
   "metadata": {},
   "source": [
    "# training the algorithm "
   ]
  },
  {
   "cell_type": "code",
   "execution_count": 5,
   "id": "excessive-lying",
   "metadata": {},
   "outputs": [
    {
     "data": {
      "text/plain": [
       "LinearRegression()"
      ]
     },
     "execution_count": 5,
     "metadata": {},
     "output_type": "execute_result"
    }
   ],
   "source": [
    "regressor = LinearRegression()\n",
    "regressor.fit(x_train, y_train)\n",
    "y_pred = regressor.predict(x_test)\n",
    "LinearRegression()"
   ]
  },
  {
   "cell_type": "markdown",
   "id": "referenced-cooperative",
   "metadata": {},
   "source": [
    "# plot linear model with test data "
   ]
  },
  {
   "cell_type": "code",
   "execution_count": 6,
   "id": "sorted-calendar",
   "metadata": {},
   "outputs": [
    {
     "data": {
      "image/png": "[encoded data removed]",
      "text/plain": [
       "<Figure size 432x288 with 1 Axes>"
      ]
     },
     "metadata": {
      "needs_background": "light"
     },
     "output_type": "display_data"
    }
   ],
   "source": [
    "plt.scatter(x_test, y_test,  color='gray')\n",
    "plt.plot(x_test, y_pred, color='red', linewidth=2)\n",
    "plt.show()"
   ]
  },
  {
   "cell_type": "markdown",
   "id": "blind-proportion",
   "metadata": {},
   "source": [
    "# plot linear model with original data "
   ]
  },
  {
   "cell_type": "code",
   "execution_count": 11,
   "id": "sophisticated-immune",
   "metadata": {},
   "outputs": [
    {
     "data": {
      "image/png": "[encoded data removed]",
      "text/plain": [
       "<Figure size 432x288 with 1 Axes>"
      ]
     },
     "metadata": {
      "needs_background": "light"
     },
     "output_type": "display_data"
    }
   ],
   "source": [
    "plt.scatter(regrex1['x'], regrex1['y'], color = 'gray')\n",
    "plt.plot(x_test, y_pred, color='red', linewidth=2)\n",
    "plt.show()"
   ]
  },
  {
   "cell_type": "code",
   "execution_count": null,
   "id": "painted-salon",
   "metadata": {},
   "outputs": [],
   "source": []
  }
 ],
 "metadata": {
  "kernelspec": {
   "display_name": "Python 3",
   "language": "python",
   "name": "python3"
  },
  "language_info": {
   "codemirror_mode": {
    "name": "ipython",
    "version": 3
   },
   "file_extension": ".py",
   "mimetype": "text/x-python",
   "name": "python",
   "nbconvert_exporter": "python",
   "pygments_lexer": "ipython3",
   "version": "3.8.8"
  }
 },
 "nbformat": 4,
 "nbformat_minor": 5
}
